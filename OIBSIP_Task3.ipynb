{
  "nbformat": 4,
  "nbformat_minor": 0,
  "metadata": {
    "colab": {
      "provenance": []
    },
    "kernelspec": {
      "name": "python3",
      "display_name": "Python 3"
    },
    "language_info": {
      "name": "python"
    }
  },
  "cells": [
    {
      "cell_type": "markdown",
      "source": [
        "# **Data Cleaning**"
      ],
      "metadata": {
        "id": "D_9RjcqQSkbF"
      }
    },
    {
      "cell_type": "markdown",
      "source": [
        "Data cleaning (or data cleansing) is the process of identifying, correcting, or removing errors, inconsistencies, and inaccuracies from a dataset. It ensures that the data is complete, reliable, and ready for analysis."
      ],
      "metadata": {
        "id": "jxraddoZThuT"
      }
    },
    {
      "cell_type": "code",
      "execution_count": null,
      "metadata": {
        "id": "Qm7FyJArSemA"
      },
      "outputs": [],
      "source": [
        "#Import the necessary libraries\n",
        "import pandas as pd\n",
        "import numpy as np\n",
        "import matplotlib.pyplot as plt\n",
        "import seaborn as sns\n",
        "import os"
      ]
    },
    {
      "cell_type": "code",
      "source": [
        "# Load the dataset\n",
        "file_path = '/content/AB_NYC_2019.csv.zip'\n",
        "df = pd.read_csv(file_path)"
      ],
      "metadata": {
        "id": "bAvN-eVBTus8"
      },
      "execution_count": null,
      "outputs": []
    },
    {
      "cell_type": "markdown",
      "source": [
        "1.**Understanding the Dataset**"
      ],
      "metadata": {
        "id": "7uw3u4b8T8yU"
      }
    },
    {
      "cell_type": "code",
      "source": [
        "print(\"Dataset Overview:\")\n",
        "print(df.info())\n"
      ],
      "metadata": {
        "colab": {
          "base_uri": "https://localhost:8080/"
        },
        "id": "cfUyqGiQT6OM",
        "outputId": "a2865de8-abef-4163-d5a8-05b6f5a29a7d"
      },
      "execution_count": null,
      "outputs": [
        {
          "output_type": "stream",
          "name": "stdout",
          "text": [
            "Dataset Overview:\n",
            "<class 'pandas.core.frame.DataFrame'>\n",
            "RangeIndex: 48895 entries, 0 to 48894\n",
            "Data columns (total 16 columns):\n",
            " #   Column                          Non-Null Count  Dtype  \n",
            "---  ------                          --------------  -----  \n",
            " 0   id                              48895 non-null  int64  \n",
            " 1   name                            48879 non-null  object \n",
            " 2   host_id                         48895 non-null  int64  \n",
            " 3   host_name                       48874 non-null  object \n",
            " 4   neighbourhood_group             48895 non-null  object \n",
            " 5   neighbourhood                   48895 non-null  object \n",
            " 6   latitude                        48895 non-null  float64\n",
            " 7   longitude                       48895 non-null  float64\n",
            " 8   room_type                       48895 non-null  object \n",
            " 9   price                           48895 non-null  int64  \n",
            " 10  minimum_nights                  48895 non-null  int64  \n",
            " 11  number_of_reviews               48895 non-null  int64  \n",
            " 12  last_review                     38843 non-null  object \n",
            " 13  reviews_per_month               38843 non-null  float64\n",
            " 14  calculated_host_listings_count  48895 non-null  int64  \n",
            " 15  availability_365                48895 non-null  int64  \n",
            "dtypes: float64(3), int64(7), object(6)\n",
            "memory usage: 6.0+ MB\n",
            "None\n"
          ]
        }
      ]
    },
    {
      "cell_type": "code",
      "source": [
        "print(\"\\nFirst 5 Rows:\")\n",
        "print(df.head())"
      ],
      "metadata": {
        "colab": {
          "base_uri": "https://localhost:8080/"
        },
        "id": "SVBAw4zWUFbr",
        "outputId": "f37c7dba-265b-4a9c-bc0a-449a1253cb5f"
      },
      "execution_count": null,
      "outputs": [
        {
          "output_type": "stream",
          "name": "stdout",
          "text": [
            "\n",
            "First 5 Rows:\n",
            "     id                                              name  host_id  \\\n",
            "0  2539                Clean & quiet apt home by the park     2787   \n",
            "1  2595                             Skylit Midtown Castle     2845   \n",
            "2  3647               THE VILLAGE OF HARLEM....NEW YORK !     4632   \n",
            "3  3831                   Cozy Entire Floor of Brownstone     4869   \n",
            "4  5022  Entire Apt: Spacious Studio/Loft by central park     7192   \n",
            "\n",
            "     host_name neighbourhood_group neighbourhood  latitude  longitude  \\\n",
            "0         John            Brooklyn    Kensington  40.64749  -73.97237   \n",
            "1     Jennifer           Manhattan       Midtown  40.75362  -73.98377   \n",
            "2    Elisabeth           Manhattan        Harlem  40.80902  -73.94190   \n",
            "3  LisaRoxanne            Brooklyn  Clinton Hill  40.68514  -73.95976   \n",
            "4        Laura           Manhattan   East Harlem  40.79851  -73.94399   \n",
            "\n",
            "         room_type  price  minimum_nights  number_of_reviews last_review  \\\n",
            "0     Private room    149               1                  9  2018-10-19   \n",
            "1  Entire home/apt    225               1                 45  2019-05-21   \n",
            "2     Private room    150               3                  0         NaN   \n",
            "3  Entire home/apt     89               1                270  2019-07-05   \n",
            "4  Entire home/apt     80              10                  9  2018-11-19   \n",
            "\n",
            "   reviews_per_month  calculated_host_listings_count  availability_365  \n",
            "0               0.21                               6               365  \n",
            "1               0.38                               2               355  \n",
            "2                NaN                               1               365  \n",
            "3               4.64                               1               194  \n",
            "4               0.10                               1                 0  \n"
          ]
        }
      ]
    },
    {
      "cell_type": "markdown",
      "source": [
        "2.**Handling Missing Data**"
      ],
      "metadata": {
        "id": "WwincchpUSbz"
      }
    },
    {
      "cell_type": "code",
      "source": [
        "print(\"\\nMissing Values:\")\n",
        "print(df.isnull().sum())"
      ],
      "metadata": {
        "colab": {
          "base_uri": "https://localhost:8080/"
        },
        "id": "mYhfvtEiUN_d",
        "outputId": "67ef32ce-bcc7-4381-ad1b-747296be8beb"
      },
      "execution_count": null,
      "outputs": [
        {
          "output_type": "stream",
          "name": "stdout",
          "text": [
            "\n",
            "Missing Values:\n",
            "id                                    0\n",
            "name                                 16\n",
            "host_id                               0\n",
            "host_name                            21\n",
            "neighbourhood_group                   0\n",
            "neighbourhood                         0\n",
            "latitude                              0\n",
            "longitude                             0\n",
            "room_type                             0\n",
            "price                                 0\n",
            "minimum_nights                        0\n",
            "number_of_reviews                     0\n",
            "last_review                       10052\n",
            "reviews_per_month                 10052\n",
            "calculated_host_listings_count        0\n",
            "availability_365                      0\n",
            "dtype: int64\n"
          ]
        }
      ]
    },
    {
      "cell_type": "markdown",
      "source": [
        "**Visualizing Missing Data**"
      ],
      "metadata": {
        "id": "xXc5EyAjUfhl"
      }
    },
    {
      "cell_type": "code",
      "source": [
        "plt.figure(figsize=(10,5))\n",
        "sns.heatmap(df.isnull(), cmap='viridis', cbar=False, yticklabels=False)\n",
        "plt.title(\"Missing Data Visualization\")\n",
        "plt.show()"
      ],
      "metadata": {
        "colab": {
          "base_uri": "https://localhost:8080/",
          "height": 664
        },
        "id": "oWwNurB9Uac-",
        "outputId": "6d487550-4e81-41d9-c210-9a9c5087246c"
      },
      "execution_count": null,
      "outputs": [
        {
          "output_type": "display_data",
          "data": {
            "text/plain": [
              "<Figure size 1000x500 with 1 Axes>"
            ],
            "image/png": "[encoded data removed]"
          },
          "metadata": {}
        }
      ]
    },
    {
      "cell_type": "markdown",
      "source": [
        "**Filling missing values**"
      ],
      "metadata": {
        "id": "-wvQsaDlUrTP"
      }
    },
    {
      "cell_type": "code",
      "source": [
        "# Example: Filling missing 'reviews_per_month' with 0\n",
        "\n",
        "df['reviews_per_month'].fillna(0, inplace=True)"
      ],
      "metadata": {
        "colab": {
          "base_uri": "https://localhost:8080/"
        },
        "id": "Cl4qQoBcUlwz",
        "outputId": "80315edb-50bd-44e8-d7c3-46eb483959de"
      },
      "execution_count": null,
      "outputs": [
        {
          "output_type": "stream",
          "name": "stderr",
          "text": [
            "<ipython-input-9-e96ed618a8cd>:3: FutureWarning: A value is trying to be set on a copy of a DataFrame or Series through chained assignment using an inplace method.\n",
            "The behavior will change in pandas 3.0. This inplace method will never work because the intermediate object on which we are setting values always behaves as a copy.\n",
            "\n",
            "For example, when doing 'df[col].method(value, inplace=True)', try using 'df.method({col: value}, inplace=True)' or df[col] = df[col].method(value) instead, to perform the operation inplace on the original object.\n",
            "\n",
            "\n",
            "  df['reviews_per_month'].fillna(0, inplace=True)\n"
          ]
        }
      ]
    },
    {
      "cell_type": "code",
      "source": [
        "# Dropping rows with missing values in 'name' and 'host_name'\n",
        "df.dropna(subset=['name', 'host_name'], inplace=True)\n"
      ],
      "metadata": {
        "id": "DAFlZmt7U50V"
      },
      "execution_count": null,
      "outputs": []
    },
    {
      "cell_type": "markdown",
      "source": [
        "3.**Removing Duplicates**"
      ],
      "metadata": {
        "id": "W2fV2yxBVJO3"
      }
    },
    {
      "cell_type": "code",
      "source": [
        "print(\"\\nDuplicate Entries Before Removal:\", df.duplicated().sum())\n",
        "df.drop_duplicates(inplace=True)\n",
        "print(\"Duplicate Entries After Removal:\", df.duplicated().sum())\n"
      ],
      "metadata": {
        "colab": {
          "base_uri": "https://localhost:8080/"
        },
        "id": "JuOyU3UbVFao",
        "outputId": "071a444f-01ff-4484-f49a-4023ff8a64af"
      },
      "execution_count": null,
      "outputs": [
        {
          "output_type": "stream",
          "name": "stdout",
          "text": [
            "\n",
            "Duplicate Entries Before Removal: 0\n",
            "Duplicate Entries After Removal: 0\n"
          ]
        }
      ]
    },
    {
      "cell_type": "markdown",
      "source": [
        "4.**Standardization & Consistency**"
      ],
      "metadata": {
        "id": "M4NW8b8iVUEd"
      }
    },
    {
      "cell_type": "code",
      "source": [
        "# Convert 'neighbourhood_group' and 'neighbourhood' to title case\n",
        "df['neighbourhood_group'] = df['neighbourhood_group'].str.title()\n",
        "df['neighbourhood'] = df['neighbourhood'].str.title()\n"
      ],
      "metadata": {
        "id": "YuU4UWO-VQFo"
      },
      "execution_count": null,
      "outputs": []
    },
    {
      "cell_type": "markdown",
      "source": [
        "5.**Handling Outliers**"
      ],
      "metadata": {
        "id": "isbzyWbJVilp"
      }
    },
    {
      "cell_type": "code",
      "source": [
        "plt.figure(figsize=(10,5))\n",
        "sns.boxplot(x=df['price'])\n",
        "plt.title(\"Boxplot of Prices (Detecting Outliers)\")\n",
        "plt.show()"
      ],
      "metadata": {
        "colab": {
          "base_uri": "https://localhost:8080/",
          "height": 487
        },
        "id": "4LE3ogTQVcCm",
        "outputId": "ce304fcf-9d26-4f1a-a620-bd48e77cbb1c"
      },
      "execution_count": null,
      "outputs": [
        {
          "output_type": "display_data",
          "data": {
            "text/plain": [
              "<Figure size 1000x500 with 1 Axes>"
            ],
            "image/png": "[encoded data removed]"
          },
          "metadata": {}
        }
      ]
    },
    {
      "cell_type": "code",
      "source": [
        "# Removing outliers in 'price' column using IQR method\n",
        "Q1 = df['price'].quantile(0.25)\n",
        "Q3 = df['price'].quantile(0.75)\n",
        "IQR = Q3 - Q1\n",
        "lower_bound = Q1 - 1.5 * IQR\n",
        "upper_bound = Q3 + 1.5 * IQR"
      ],
      "metadata": {
        "id": "hyJ-BzY3Vpxu"
      },
      "execution_count": null,
      "outputs": []
    },
    {
      "cell_type": "code",
      "source": [
        "df = df[(df['price'] >= lower_bound) & (df['price'] <= upper_bound)]\n"
      ],
      "metadata": {
        "id": "IsAkzQEmVvQ6"
      },
      "execution_count": null,
      "outputs": []
    },
    {
      "cell_type": "markdown",
      "source": [
        "6.**Verifying Data Integrity**"
      ],
      "metadata": {
        "id": "ICvlqyZdV1tZ"
      }
    },
    {
      "cell_type": "code",
      "source": [
        "print(\"\\nFinal Dataset Overview:\")\n",
        "print(df.info())\n",
        "print(\"\\nFinal Dataset Summary:\")\n",
        "print(df.describe())"
      ],
      "metadata": {
        "colab": {
          "base_uri": "https://localhost:8080/"
        },
        "id": "ZQPU1K5SVzna",
        "outputId": "4ac2157a-2d28-4a9e-e826-00c5a314021c"
      },
      "execution_count": null,
      "outputs": [
        {
          "output_type": "stream",
          "name": "stdout",
          "text": [
            "\n",
            "Final Dataset Overview:\n",
            "<class 'pandas.core.frame.DataFrame'>\n",
            "Index: 45887 entries, 0 to 48894\n",
            "Data columns (total 16 columns):\n",
            " #   Column                          Non-Null Count  Dtype  \n",
            "---  ------                          --------------  -----  \n",
            " 0   id                              45887 non-null  int64  \n",
            " 1   name                            45887 non-null  object \n",
            " 2   host_id                         45887 non-null  int64  \n",
            " 3   host_name                       45887 non-null  object \n",
            " 4   neighbourhood_group             45887 non-null  object \n",
            " 5   neighbourhood                   45887 non-null  object \n",
            " 6   latitude                        45887 non-null  float64\n",
            " 7   longitude                       45887 non-null  float64\n",
            " 8   room_type                       45887 non-null  object \n",
            " 9   price                           45887 non-null  int64  \n",
            " 10  minimum_nights                  45887 non-null  int64  \n",
            " 11  number_of_reviews               45887 non-null  int64  \n",
            " 12  last_review                     36889 non-null  object \n",
            " 13  reviews_per_month               45887 non-null  float64\n",
            " 14  calculated_host_listings_count  45887 non-null  int64  \n",
            " 15  availability_365                45887 non-null  int64  \n",
            "dtypes: float64(3), int64(7), object(6)\n",
            "memory usage: 6.0+ MB\n",
            "None\n",
            "\n",
            "Final Dataset Summary:\n",
            "                 id       host_id      latitude     longitude         price  \\\n",
            "count  4.588700e+04  4.588700e+04  45887.000000  45887.000000  45887.000000   \n",
            "mean   1.890467e+07  6.633702e+07     40.728479    -73.950734    119.970907   \n",
            "std    1.091919e+07  7.757072e+07      0.055329      0.046474     68.145438   \n",
            "min    2.539000e+03  2.438000e+03     40.499790    -74.244420      0.000000   \n",
            "25%    9.445691e+06  7.719674e+06     40.689230    -73.981925     65.000000   \n",
            "50%    1.953052e+07  3.028359e+07     40.721770    -73.954370    100.000000   \n",
            "75%    2.891607e+07  1.055431e+08     40.763385    -73.934325    159.000000   \n",
            "max    3.648724e+07  2.743213e+08     40.913060    -73.712990    334.000000   \n",
            "\n",
            "       minimum_nights  number_of_reviews  reviews_per_month  \\\n",
            "count    45887.000000       45887.000000       45887.000000   \n",
            "mean         6.940985          23.941225           1.107956   \n",
            "std         19.864844          45.314776           1.612643   \n",
            "min          1.000000           0.000000           0.000000   \n",
            "25%          1.000000           1.000000           0.050000   \n",
            "50%          2.000000           5.000000           0.380000   \n",
            "75%          5.000000          24.000000           1.620000   \n",
            "max       1250.000000         629.000000          58.500000   \n",
            "\n",
            "       calculated_host_listings_count  availability_365  \n",
            "count                    45887.000000      45887.000000  \n",
            "mean                         6.643842        109.402859  \n",
            "std                         31.019948        130.270561  \n",
            "min                          1.000000          0.000000  \n",
            "25%                          1.000000          0.000000  \n",
            "50%                          1.000000         40.000000  \n",
            "75%                          2.000000        217.000000  \n",
            "max                        327.000000        365.000000  \n"
          ]
        }
      ]
    },
    {
      "cell_type": "markdown",
      "source": [
        "7.**Save the Cleaned Dataset**"
      ],
      "metadata": {
        "id": "xmoQ7MfsWAAd"
      }
    },
    {
      "cell_type": "code",
      "source": [
        "# Create the directory if it doesn't exist\n",
        "os.makedirs('/mnt/data', exist_ok=True)\n",
        "\n",
        "# Now save the cleaned dataset\n",
        "df.to_csv('/mnt/data/cleaned_AB_NYC_2019.csv', index=False)\n",
        "print(\"Cleaned dataset saved successfully!\")"
      ],
      "metadata": {
        "colab": {
          "base_uri": "https://localhost:8080/"
        },
        "id": "BBhonO_sV7aC",
        "outputId": "3523681f-8145-4cef-f166-8128eac43407"
      },
      "execution_count": null,
      "outputs": [
        {
          "output_type": "stream",
          "name": "stdout",
          "text": [
            "Cleaned dataset saved successfully!\n"
          ]
        }
      ]
    },
    {
      "cell_type": "code",
      "source": [
        "# Final Conclusion\n",
        "print(\"\\nConclusion:\")\n",
        "print(\"The data cleaning process successfully handled missing values, removed duplicates, standardized data formats, and addressed outliers. The cleaned dataset is now more accurate and reliable for further analysis and visualization.\")\n"
      ],
      "metadata": {
        "colab": {
          "base_uri": "https://localhost:8080/"
        },
        "id": "iTP9Tgd9WHpO",
        "outputId": "4a72810f-c872-4d50-f9dc-591c0f310f01"
      },
      "execution_count": null,
      "outputs": [
        {
          "output_type": "stream",
          "name": "stdout",
          "text": [
            "\n",
            "Conclusion:\n",
            "The data cleaning process successfully handled missing values, removed duplicates, standardized data formats, and addressed outliers. The cleaned dataset is now more accurate and reliable for further analysis and visualization.\n"
          ]
        }
      ]
    },
    {
      "cell_type": "markdown",
      "source": [
        "**Conclusion:**\n",
        "\n",
        "The data cleaning process successfully addressed missing values, duplicates, inconsistencies, and outliers, making the dataset more accurate, reliable, and ready for analysis. This cleaned dataset can now be confidently used for exploratory data analysis (EDA), visualization, and machine learning models."
      ],
      "metadata": {
        "id": "dPiagIMAa1IJ"
      }
    },
    {
      "cell_type": "code",
      "source": [],
      "metadata": {
        "id": "cY9Jqww7ahVy"
      },
      "execution_count": null,
      "outputs": []
    }
  ]
}